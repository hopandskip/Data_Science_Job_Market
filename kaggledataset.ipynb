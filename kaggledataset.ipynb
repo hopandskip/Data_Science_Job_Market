{
 "cells": [
  {
   "cell_type": "code",
   "execution_count": 13,
   "metadata": {},
   "outputs": [],
   "source": [
    "import pandas as pd\n",
    "import numpy as np\n",
    "import re\n",
    "file= \"alldata.csv\""
   ]
  },
  {
   "cell_type": "code",
   "execution_count": 2,
   "metadata": {},
   "outputs": [],
   "source": [
    "df = pd.read_csv(file)"
   ]
  },
  {
   "cell_type": "code",
   "execution_count": 3,
   "metadata": {},
   "outputs": [],
   "source": [
    "df=df.dropna(how='all')"
   ]
  },
  {
   "cell_type": "code",
   "execution_count": 4,
   "metadata": {},
   "outputs": [],
   "source": [
    "del df['reviews']\n",
    "del df['description']"
   ]
  },
  {
   "cell_type": "code",
   "execution_count": 5,
   "metadata": {},
   "outputs": [],
   "source": [
    "citystatezip= df['location'].apply(lambda x: \"\".join(x.split(\",\")))\n",
    "citystatezip2 = citystatezip.apply(lambda x: x.split(\" \"))\n",
    "city = citystatezip2.apply(lambda x: x[0])\n",
    "state = citystatezip2.apply(lambda x: x[1])\n",
    "df['location'] = city + \", \" + state"
   ]
  },
  {
   "cell_type": "code",
   "execution_count": 12,
   "metadata": {
    "scrolled": true
   },
   "outputs": [
    {
     "name": "stdout",
     "output_type": "stream",
     "text": [
      "stupid error makes no sense\n"
     ]
    },
    {
     "data": {
      "text/plain": [
       "position       2739\n",
       "company        2739\n",
       "location       2739\n",
       "positiontxt    2739\n",
       "dtype: int64"
      ]
     },
     "execution_count": 12,
     "metadata": {},
     "output_type": "execute_result"
    }
   ],
   "source": [
    "try:\n",
    "    df['positiontxt'] = df['position']\n",
    "    df['position'] = df['position'].str.contains('data|science|database|analytics|statistician|machine learning|business intelligence', flags=re.IGNORECASE, regex=True)\n",
    "\n",
    "except AttributeError:\n",
    "    print(\"stupid error makes no sense\")\n",
    "    \n",
    "df.loc[df['position'] == True].count()"
   ]
  }
 ],
 "metadata": {
  "kernelspec": {
   "display_name": "Python 3",
   "language": "python",
   "name": "python3"
  },
  "language_info": {
   "codemirror_mode": {
    "name": "ipython",
    "version": 3
   },
   "file_extension": ".py",
   "mimetype": "text/x-python",
   "name": "python",
   "nbconvert_exporter": "python",
   "pygments_lexer": "ipython3",
   "version": "3.7.1"
  }
 },
 "nbformat": 4,
 "nbformat_minor": 2
}
