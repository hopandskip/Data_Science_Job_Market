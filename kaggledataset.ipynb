{
 "cells": [
  {
   "cell_type": "code",
   "execution_count": 1,
   "metadata": {},
   "outputs": [
    {
     "name": "stderr",
     "output_type": "stream",
     "text": [
      "[nltk_data] Downloading package stopwords to\n",
      "[nltk_data]     /Users/kyleeng/nltk_data...\n",
      "[nltk_data]   Package stopwords is already up-to-date!\n"
     ]
    }
   ],
   "source": [
    "from collections import Counter\n",
    "import pandas as pd\n",
    "import numpy as np\n",
    "import re\n",
    "import nltk\n",
    "nltk.download('stopwords')\n",
    "file= \"alldata.csv\""
   ]
  },
  {
   "cell_type": "code",
   "execution_count": 2,
   "metadata": {},
   "outputs": [],
   "source": [
    "df = pd.read_csv(file)"
   ]
  },
  {
   "cell_type": "code",
   "execution_count": 3,
   "metadata": {},
   "outputs": [
    {
     "data": {
      "text/plain": [
       "Index(['position', 'company', 'description', 'reviews', 'location'], dtype='object')"
      ]
     },
     "execution_count": 3,
     "metadata": {},
     "output_type": "execute_result"
    }
   ],
   "source": [
    "df=df.dropna(how='all')\n",
    "df.columns"
   ]
  },
  {
   "cell_type": "code",
   "execution_count": 4,
   "metadata": {},
   "outputs": [
    {
     "data": {
      "text/plain": [
       "Index(['position', 'company', 'description', 'location'], dtype='object')"
      ]
     },
     "execution_count": 4,
     "metadata": {},
     "output_type": "execute_result"
    }
   ],
   "source": [
    "del df['reviews']\n",
    "df.columns"
   ]
  },
  {
   "cell_type": "code",
   "execution_count": 5,
   "metadata": {},
   "outputs": [
    {
     "data": {
      "text/html": [
       "<div>\n",
       "<style scoped>\n",
       "    .dataframe tbody tr th:only-of-type {\n",
       "        vertical-align: middle;\n",
       "    }\n",
       "\n",
       "    .dataframe tbody tr th {\n",
       "        vertical-align: top;\n",
       "    }\n",
       "\n",
       "    .dataframe thead th {\n",
       "        text-align: right;\n",
       "    }\n",
       "</style>\n",
       "<table border=\"1\" class=\"dataframe\">\n",
       "  <thead>\n",
       "    <tr style=\"text-align: right;\">\n",
       "      <th></th>\n",
       "      <th>position</th>\n",
       "      <th>company</th>\n",
       "      <th>description</th>\n",
       "      <th>location</th>\n",
       "    </tr>\n",
       "  </thead>\n",
       "  <tbody>\n",
       "    <tr>\n",
       "      <th>0</th>\n",
       "      <td>Development Director</td>\n",
       "      <td>ALS TDI</td>\n",
       "      <td>Development Director\\nALS Therapy Development ...</td>\n",
       "      <td>Atlanta, GA 30301</td>\n",
       "    </tr>\n",
       "    <tr>\n",
       "      <th>1</th>\n",
       "      <td>An Ostentatiously-Excitable Principal Research...</td>\n",
       "      <td>The Hexagon Lavish</td>\n",
       "      <td>Job Description\\n\\n\"The road that leads to acc...</td>\n",
       "      <td>Atlanta, GA</td>\n",
       "    </tr>\n",
       "    <tr>\n",
       "      <th>2</th>\n",
       "      <td>Data Scientist</td>\n",
       "      <td>Xpert Staffing</td>\n",
       "      <td>Growing company located in the Atlanta, GA are...</td>\n",
       "      <td>Atlanta, GA</td>\n",
       "    </tr>\n",
       "    <tr>\n",
       "      <th>3</th>\n",
       "      <td>Data Analyst</td>\n",
       "      <td>Operation HOPE</td>\n",
       "      <td>DEPARTMENT: Program OperationsPOSITION LOCATIO...</td>\n",
       "      <td>Atlanta, GA 30303</td>\n",
       "    </tr>\n",
       "    <tr>\n",
       "      <th>4</th>\n",
       "      <td>Assistant Professor -TT - Signal Processing &amp; ...</td>\n",
       "      <td>Emory University</td>\n",
       "      <td>DESCRIPTION\\nThe Emory University Department o...</td>\n",
       "      <td>Atlanta, GA</td>\n",
       "    </tr>\n",
       "  </tbody>\n",
       "</table>\n",
       "</div>"
      ],
      "text/plain": [
       "                                            position             company  \\\n",
       "0                               Development Director             ALS TDI   \n",
       "1  An Ostentatiously-Excitable Principal Research...  The Hexagon Lavish   \n",
       "2                                     Data Scientist      Xpert Staffing   \n",
       "3                                       Data Analyst      Operation HOPE   \n",
       "4  Assistant Professor -TT - Signal Processing & ...    Emory University   \n",
       "\n",
       "                                         description            location  \n",
       "0  Development Director\\nALS Therapy Development ...  Atlanta, GA 30301   \n",
       "1  Job Description\\n\\n\"The road that leads to acc...         Atlanta, GA  \n",
       "2  Growing company located in the Atlanta, GA are...         Atlanta, GA  \n",
       "3  DEPARTMENT: Program OperationsPOSITION LOCATIO...  Atlanta, GA 30303   \n",
       "4  DESCRIPTION\\nThe Emory University Department o...         Atlanta, GA  "
      ]
     },
     "execution_count": 5,
     "metadata": {},
     "output_type": "execute_result"
    }
   ],
   "source": [
    "df.head()"
   ]
  },
  {
   "cell_type": "code",
   "execution_count": 6,
   "metadata": {},
   "outputs": [],
   "source": [
    "citystatezip= df['location'].apply(lambda x: \"\".join(x.split(\",\")))\n",
    "citystatezip2 = citystatezip.apply(lambda x: x.split(\" \"))\n",
    "city = citystatezip2.apply(lambda x: x[0])\n",
    "state = citystatezip2.apply(lambda x: x[1])\n",
    "df['location'] = city + \", \" + state\n",
    "\n",
    "\n"
   ]
  },
  {
   "cell_type": "code",
   "execution_count": 7,
   "metadata": {
    "scrolled": true
   },
   "outputs": [],
   "source": [
    "try:\n",
    "    df.rename(columns = {\"positiontxt\": \"position\"})\n",
    "    df['position'] = df[df['position'].str.contains('data|science|database|analytics|statistician|machine learning|business intelligence', \n",
    "                                                 flags=re.IGNORECASE, regex=True)]\n",
    "        \n",
    "\n",
    "except AttributeError:\n",
    "    print(\"stupid error makes no sense\")\n",
    "    \n",
    "# df.loc[df['position'] == True].count()\n",
    "\n"
   ]
  },
  {
   "cell_type": "code",
   "execution_count": 8,
   "metadata": {},
   "outputs": [
    {
     "data": {
      "text/plain": [
       "0                                                     NaN\n",
       "1                                                     NaN\n",
       "2                                          Data Scientist\n",
       "3                                            Data Analyst\n",
       "4       Assistant Professor -TT - Signal Processing & ...\n",
       "5                             Manager of Data Engineering\n",
       "6                                                     NaN\n",
       "7                                                     NaN\n",
       "8                                                     NaN\n",
       "9       Senior Associate - Cognitive Data Scientist Na...\n",
       "10                                                    NaN\n",
       "11                                                    NaN\n",
       "12                       Senior Associate, Data Scientist\n",
       "13                                                    NaN\n",
       "14      Business Intelligence Data Science Analyst - S...\n",
       "15                                         Data Scientist\n",
       "16                                                    NaN\n",
       "17                                                    NaN\n",
       "18                                         Data Scientist\n",
       "19                                         Data Scientist\n",
       "20                                                    NaN\n",
       "21                                                    NaN\n",
       "22                                         Data Scientist\n",
       "23                          DATA SCIENTIST - Supply Chain\n",
       "24                       Data Scientist, Keying & Linking\n",
       "25                                         Data Scientist\n",
       "26                   Data Scientist 1 – AP Forensics Team\n",
       "27                                   Data Scientist - ICL\n",
       "28                                 Data Scientist, Online\n",
       "29      Data Scientist - CONSULTANT Level - ORLANDO FL...\n",
       "                              ...                        \n",
       "6934    Data Scientist, Cloud Revenue Acceleration, Go...\n",
       "6935                             Data & Applied Scientist\n",
       "6936         Data Scientist - Alexa Language Technologies\n",
       "6937                        Data Scientist / Data Analyst\n",
       "6938    Data Scientist, Customer Interests & Personali...\n",
       "6939    Data Scientist, Customer Interests & Personali...\n",
       "6940                             Principal Data Scientist\n",
       "6941    Data Scientist, Engineering Support Analytics,...\n",
       "6942                                                  NaN\n",
       "6943                                 Staff Data Scientist\n",
       "6944          Staff Data Scientist, Search/Online Grocery\n",
       "6945        Machine Learning Specialist, Trust and Safety\n",
       "6946                                                  NaN\n",
       "6947                   Applied Machine Learning Scientist\n",
       "6948                                                  NaN\n",
       "6949    Systems software Performance Data Scientist Su...\n",
       "6950                                                  NaN\n",
       "6951                            Lead Data Scientist - NLP\n",
       "6952                                                  NaN\n",
       "6953             Machine Learning Scientist, Amazon Alexa\n",
       "6954                                                  NaN\n",
       "6955                                        Data Engineer\n",
       "6956                            Manager, Machine Learning\n",
       "6957                        Lead Data Scientist - Haskell\n",
       "6958                     Senior Data Scientist (GEC11902)\n",
       "6959            Data Developer / Machine Learning Analyst\n",
       "6960                                                  NaN\n",
       "6961                                                  NaN\n",
       "6962                      Senior Data & Applied Scientist\n",
       "6963              Principal Data Scientist, Deep Learning\n",
       "Name: position, Length: 6953, dtype: object"
      ]
     },
     "execution_count": 8,
     "metadata": {},
     "output_type": "execute_result"
    }
   ],
   "source": [
    "df['position']"
   ]
  },
  {
   "cell_type": "code",
   "execution_count": 9,
   "metadata": {},
   "outputs": [
    {
     "data": {
      "text/html": [
       "<div>\n",
       "<style scoped>\n",
       "    .dataframe tbody tr th:only-of-type {\n",
       "        vertical-align: middle;\n",
       "    }\n",
       "\n",
       "    .dataframe tbody tr th {\n",
       "        vertical-align: top;\n",
       "    }\n",
       "\n",
       "    .dataframe thead th {\n",
       "        text-align: right;\n",
       "    }\n",
       "</style>\n",
       "<table border=\"1\" class=\"dataframe\">\n",
       "  <thead>\n",
       "    <tr style=\"text-align: right;\">\n",
       "      <th></th>\n",
       "      <th>position</th>\n",
       "      <th>company</th>\n",
       "      <th>description</th>\n",
       "      <th>location</th>\n",
       "    </tr>\n",
       "  </thead>\n",
       "  <tbody>\n",
       "    <tr>\n",
       "      <th>2</th>\n",
       "      <td>Data Scientist</td>\n",
       "      <td>Xpert Staffing</td>\n",
       "      <td>Growing company located in the Atlanta, GA are...</td>\n",
       "      <td>Atlanta, GA</td>\n",
       "    </tr>\n",
       "    <tr>\n",
       "      <th>3</th>\n",
       "      <td>Data Analyst</td>\n",
       "      <td>Operation HOPE</td>\n",
       "      <td>DEPARTMENT: Program OperationsPOSITION LOCATIO...</td>\n",
       "      <td>Atlanta, GA</td>\n",
       "    </tr>\n",
       "    <tr>\n",
       "      <th>4</th>\n",
       "      <td>Assistant Professor -TT - Signal Processing &amp; ...</td>\n",
       "      <td>Emory University</td>\n",
       "      <td>DESCRIPTION\\nThe Emory University Department o...</td>\n",
       "      <td>Atlanta, GA</td>\n",
       "    </tr>\n",
       "    <tr>\n",
       "      <th>5</th>\n",
       "      <td>Manager of Data Engineering</td>\n",
       "      <td>McKinsey &amp; Company</td>\n",
       "      <td>Qualifications\\nBachelor’s degree in Computer ...</td>\n",
       "      <td>Atlanta, GA</td>\n",
       "    </tr>\n",
       "    <tr>\n",
       "      <th>9</th>\n",
       "      <td>Senior Associate - Cognitive Data Scientist Na...</td>\n",
       "      <td>KPMG</td>\n",
       "      <td>Known for being a great place to work and buil...</td>\n",
       "      <td>Atlanta, GA</td>\n",
       "    </tr>\n",
       "  </tbody>\n",
       "</table>\n",
       "</div>"
      ],
      "text/plain": [
       "                                            position             company  \\\n",
       "2                                     Data Scientist      Xpert Staffing   \n",
       "3                                       Data Analyst      Operation HOPE   \n",
       "4  Assistant Professor -TT - Signal Processing & ...    Emory University   \n",
       "5                        Manager of Data Engineering  McKinsey & Company   \n",
       "9  Senior Associate - Cognitive Data Scientist Na...                KPMG   \n",
       "\n",
       "                                         description     location  \n",
       "2  Growing company located in the Atlanta, GA are...  Atlanta, GA  \n",
       "3  DEPARTMENT: Program OperationsPOSITION LOCATIO...  Atlanta, GA  \n",
       "4  DESCRIPTION\\nThe Emory University Department o...  Atlanta, GA  \n",
       "5  Qualifications\\nBachelor’s degree in Computer ...  Atlanta, GA  \n",
       "9  Known for being a great place to work and buil...  Atlanta, GA  "
      ]
     },
     "execution_count": 9,
     "metadata": {},
     "output_type": "execute_result"
    }
   ],
   "source": [
    "df = df.dropna(how= 'any')\n",
    "df.count()\n",
    "df.head()\n",
    "df.reset_index()\n",
    "df.head()\n"
   ]
  },
  {
   "cell_type": "code",
   "execution_count": 10,
   "metadata": {},
   "outputs": [
    {
     "data": {
      "text/plain": [
       "2       False\n",
       "3       False\n",
       "4       False\n",
       "5       False\n",
       "9       False\n",
       "12      False\n",
       "14      False\n",
       "15      False\n",
       "18      False\n",
       "19       True\n",
       "22      False\n",
       "23      False\n",
       "24      False\n",
       "25      False\n",
       "26      False\n",
       "27       True\n",
       "28      False\n",
       "29      False\n",
       "30       True\n",
       "31      False\n",
       "33      False\n",
       "34      False\n",
       "35      False\n",
       "36      False\n",
       "38      False\n",
       "39      False\n",
       "40      False\n",
       "41      False\n",
       "42      False\n",
       "44      False\n",
       "        ...  \n",
       "6926    False\n",
       "6927    False\n",
       "6928    False\n",
       "6929    False\n",
       "6930    False\n",
       "6931    False\n",
       "6932    False\n",
       "6933    False\n",
       "6934    False\n",
       "6935    False\n",
       "6936    False\n",
       "6937    False\n",
       "6938    False\n",
       "6939    False\n",
       "6940    False\n",
       "6941    False\n",
       "6943    False\n",
       "6944    False\n",
       "6945    False\n",
       "6947    False\n",
       "6949    False\n",
       "6951    False\n",
       "6953    False\n",
       "6955    False\n",
       "6956    False\n",
       "6957    False\n",
       "6958    False\n",
       "6959    False\n",
       "6962    False\n",
       "6963    False\n",
       "Name: description, Length: 2739, dtype: bool"
      ]
     },
     "execution_count": 10,
     "metadata": {},
     "output_type": "execute_result"
    }
   ],
   "source": [
    "descriptionList = df['description'].str.lower().str.split(\" |,|/\")\n",
    "# descriptionList.str.count('python')\n",
    "\n",
    "df.description.str.contains(r'python')\n",
    "\n",
    "# df.words.str.contains(r'he|wo')\n",
    "\n",
    "# counts = Counter(descriptionList[1])\n",
    "# print(counts)\n",
    "\n",
    "\n",
    "\n",
    "# skillsList = []\n",
    "# for row in descriptionList:\n",
    "#      skillsList.append(row)\n",
    "# skillsList\n",
    "    \n",
    "    \n",
    "\n"
   ]
  },
  {
   "cell_type": "code",
   "execution_count": null,
   "metadata": {},
   "outputs": [],
   "source": []
  },
  {
   "cell_type": "code",
   "execution_count": null,
   "metadata": {},
   "outputs": [],
   "source": []
  }
 ],
 "metadata": {
  "kernelspec": {
   "display_name": "Python 3",
   "language": "python",
   "name": "python3"
  },
  "language_info": {
   "codemirror_mode": {
    "name": "ipython",
    "version": 3
   },
   "file_extension": ".py",
   "mimetype": "text/x-python",
   "name": "python",
   "nbconvert_exporter": "python",
   "pygments_lexer": "ipython3",
   "version": "3.7.1"
  }
 },
 "nbformat": 4,
 "nbformat_minor": 2
}
